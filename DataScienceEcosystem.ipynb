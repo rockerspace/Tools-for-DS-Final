{
 "cells": [
  {
   "cell_type": "markdown",
   "id": "f7d3e654-290c-46ab-b693-5286856ce394",
   "metadata": {},
   "source": [
    "Data Science Tools and Ecosystem"
   ]
  },
  {
   "cell_type": "markdown",
   "id": "b8a2648b-2d0a-4faf-8069-235bd94d41db",
   "metadata": {},
   "source": [
    "In this notebook, Data Science Tools and Ecosystem are summarized."
   ]
  },
  {
   "cell_type": "markdown",
   "id": "d3e8a9f5-e604-4d19-bf2c-669622d19e79",
   "metadata": {},
   "source": [
    "Some of the popular languages that Data Scientists use are:\n",
    "1.Python\n",
    "2.R\n",
    "3.Anaconda"
   ]
  },
  {
   "cell_type": "markdown",
   "id": "14055622-c6b7-4a7d-a544-d5e7b65903b3",
   "metadata": {},
   "source": [
    "Some of the commonly used libraries used by Data Scientists include: Scikit-learn, \n",
    "NumPy, Pandas, Matplotlib"
   ]
  },
  {
   "cell_type": "markdown",
   "id": "886a0da1-b197-49a3-84db-8da7d30132cf",
   "metadata": {},
   "source": [
    "Data Science Tools: \n",
    "Jupyter Notebook\n",
    "RStudio\n",
    "Apache Zeppelin"
   ]
  },
  {
   "cell_type": "markdown",
   "id": "b58b5b42-fcc3-4e93-82c0-4b90ac54e605",
   "metadata": {},
   "source": [
    "2+1=3 , 3-2=1, 4*4=16"
   ]
  },
  {
   "cell_type": "markdown",
   "id": "805bf4c3-ff90-4e5f-8c2b-15a2d9b380b0",
   "metadata": {
    "tags": []
   },
   "source": [
    "result = (3*4) + 5\n",
    "print(result)"
   ]
  },
  {
   "cell_type": "code",
   "execution_count": 4,
   "id": "db504b3d-e31b-43af-81d2-82053168ca19",
   "metadata": {
    "tags": []
   },
   "outputs": [
    {
     "name": "stdout",
     "output_type": "stream",
     "text": [
      "3.3333333333333335\n"
     ]
    }
   ],
   "source": [
    "hours = 200 / 60\n",
    "print(hours)"
   ]
  },
  {
   "cell_type": "markdown",
   "id": "8788a019-dbea-433a-8c84-599c5260226d",
   "metadata": {},
   "source": [
    "Objectives:\n",
    "1.List popular languages for Data Science\n",
    "2.Identify commonly used libraries and tools in Data Science\n",
    "3.Understand basic arithmetic expressions and operations in Python\n",
    "4.Convert between units of time (e.g. minutes to hours"
   ]
  },
  {
   "cell_type": "markdown",
   "id": "c5515a18-3f81-4614-9e65-8e8b5e9a0e5c",
   "metadata": {},
   "source": [
    "Author\n",
    "Narendra Venkatesan"
   ]
  },
  {
   "cell_type": "code",
   "execution_count": null,
   "id": "64a333b3-c39b-40ad-aaba-a5cb20f28577",
   "metadata": {},
   "outputs": [],
   "source": []
  }
 ],
 "metadata": {
  "kernelspec": {
   "display_name": "Python",
   "language": "python",
   "name": "conda-env-python-py"
  },
  "language_info": {
   "codemirror_mode": {
    "name": "ipython",
    "version": 3
   },
   "file_extension": ".py",
   "mimetype": "text/x-python",
   "name": "python",
   "nbconvert_exporter": "python",
   "pygments_lexer": "ipython3",
   "version": "3.7.12"
  }
 },
 "nbformat": 4,
 "nbformat_minor": 5
}
